{
 "cells": [
  {
   "cell_type": "code",
   "execution_count": 164,
   "id": "e2e5c16f",
   "metadata": {},
   "outputs": [
    {
     "data": {
      "text/plain": [
       "(0.18744903802871704,\n",
       " 1.8839265704154968,\n",
       " 0.08259722739458084,\n",
       " 1.9237743005156518)"
      ]
     },
     "execution_count": 164,
     "metadata": {},
     "output_type": "execute_result"
    },
    {
     "data": {
      "image/png": "[encoded data removed]",
      "text/plain": [
       "<Figure size 432x288 with 1 Axes>"
      ]
     },
     "metadata": {
      "needs_background": "light"
     },
     "output_type": "display_data"
    }
   ],
   "source": [
    "import matplotlib.pyplot as plt\n",
    "import numpy as np\n",
    "import torch\n",
    "import random\n",
    "seed = random.randint(1, 309)\n",
    "# make up some data for x\n",
    "random.seed(seed)\n",
    "torch.manual_seed(seed)\n",
    "np.random.seed(seed)\n",
    "D = 2\n",
    "x= torch.rand(100,D)\n",
    "x[:,0] = x[:,0] + x[:,1]\n",
    "x[:,1] = 0.5*x[:,0] + x[:,1]\n",
    "plt.scatter(x[:,0],x[:,1])\n",
    "plt.axis('equal')"
   ]
  },
  {
   "cell_type": "code",
   "execution_count": 165,
   "id": "08b13516",
   "metadata": {},
   "outputs": [],
   "source": [
    "random.seed(seed)\n",
    "torch.manual_seed(seed)\n",
    "np.random.seed(seed)\n",
    "wEncoder = torch.randn(D,1, requires_grad=True)\n",
    "wDecoder = torch.randn(1,D, requires_grad=True)\n",
    "bEncoder = torch.randn(1, requires_grad=True)\n",
    "bDecoder = torch.randn(1,D, requires_grad=True)\n"
   ]
  },
  {
   "cell_type": "code",
   "execution_count": 166,
   "id": "865e1ddf",
   "metadata": {},
   "outputs": [],
   "source": [
    "def encode(x,wEncoder,bEncoder):\n",
    "    return wEncoder[0]*x[:,0] + wEncoder[1]*x[:,1] + bEncoder"
   ]
  },
  {
   "cell_type": "code",
   "execution_count": 167,
   "id": "6350a9a5",
   "metadata": {},
   "outputs": [],
   "source": [
    "def decode(z,wDecoder,bDecoder):\n",
    "    return wDecoder*z.reshape([100,1])  + bDecoder\n"
   ]
  },
  {
   "cell_type": "code",
   "execution_count": 168,
   "id": "89ff16d2",
   "metadata": {},
   "outputs": [],
   "source": [
    "from sklearn.metrics import mean_squared_error\n",
    "def mse(decoded,x):\n",
    "    decoded = decoded.detach().numpy()\n",
    "    x = x.detach().numpy()\n",
    "    return mean_squared_error(decoded,x)"
   ]
  },
  {
   "cell_type": "code",
   "execution_count": null,
   "id": "76d27af6",
   "metadata": {},
   "outputs": [],
   "source": []
  },
  {
   "cell_type": "code",
   "execution_count": null,
   "id": "ff7e76ca",
   "metadata": {},
   "outputs": [],
   "source": []
  },
  {
   "cell_type": "code",
   "execution_count": 169,
   "id": "ddce4897",
   "metadata": {},
   "outputs": [],
   "source": [
    "opt = torch.optim.SGD([wEncoder,wDecoder,bEncoder,bDecoder], lr=0.01)\n"
   ]
  },
  {
   "cell_type": "code",
   "execution_count": 170,
   "id": "7f298560",
   "metadata": {},
   "outputs": [],
   "source": [
    "from torch import nn\n",
    "LIMIT = 50\n",
    "NTESTPOINTS = 100\n",
    "winit = LIMIT * (2*torch.rand(NTESTPOINTS,2)-1) \n",
    "STEPS = 1000\n",
    "saved = np.ones((STEPS,len(winit),2))\n",
    "lossF = nn.MSELoss()\n",
    "loss = []\n",
    "st = []\n",
    "detached = []\n",
    "for t in range(STEPS):\n",
    "  st.append(t)\n",
    "  detached.append(x.detach().numpy())\n",
    "  opt.zero_grad()\n",
    "  decoded = decode(encode(x,wEncoder,bEncoder),wDecoder,bDecoder)\n",
    "  y = lossF(decoded,x)\n",
    "  loss.append(mse(decoded,x))\n",
    "  saved[t,:,:] = y.detach().numpy()\n",
    "  y.backward(torch.ones_like(y))\n",
    "  opt.step()"
   ]
  },
  {
   "cell_type": "code",
   "execution_count": 171,
   "id": "30689367",
   "metadata": {},
   "outputs": [
    {
     "data": {
      "image/png": "[encoded data removed]",
      "text/plain": [
       "<Figure size 432x288 with 1 Axes>"
      ]
     },
     "metadata": {
      "needs_background": "light"
     },
     "output_type": "display_data"
    }
   ],
   "source": [
    "\n",
    "xRecon = decode(encode(x,wEncoder,bEncoder),wDecoder,bDecoder)\n",
    "plt.scatter(x[:,0],x[:,1],color='cyan');\n",
    "plt.scatter(xRecon.detach()[:,0],xRecon.detach()[:,1]);\n",
    "plt.plot([0,wEncoder[0,0].detach().numpy()], [0,wEncoder[1,0].detach().numpy()],'-r');\n",
    "plt.axis('equal')\n",
    "plt.title(\"SGD no momentum\")\n",
    "plt.show()"
   ]
  },
  {
   "cell_type": "code",
   "execution_count": 172,
   "id": "9014bc06",
   "metadata": {},
   "outputs": [
    {
     "data": {
      "image/png": "[encoded data removed]",
      "text/plain": [
       "<Figure size 432x288 with 1 Axes>"
      ]
     },
     "metadata": {
      "needs_background": "light"
     },
     "output_type": "display_data"
    }
   ],
   "source": [
    "plt.plot(st,loss)\n",
    "plt.title(\"SGD no momentum Loss vs Epochs\")\n",
    "plt.show()"
   ]
  },
  {
   "cell_type": "code",
   "execution_count": null,
   "id": "b5fae7d6",
   "metadata": {},
   "outputs": [],
   "source": []
  },
  {
   "cell_type": "code",
   "execution_count": null,
   "id": "90e71684",
   "metadata": {},
   "outputs": [],
   "source": []
  },
  {
   "cell_type": "code",
   "execution_count": 173,
   "id": "652b805a",
   "metadata": {},
   "outputs": [],
   "source": [
    "random.seed(seed)\n",
    "torch.manual_seed(seed)\n",
    "np.random.seed(seed)\n",
    "wEncoderM = torch.randn(D,1, requires_grad=True)\n",
    "wDecoderM = torch.randn(1,D, requires_grad=True)\n",
    "bEncoderM = torch.randn(1, requires_grad=True)\n",
    "bDecoderM = torch.randn(1,D, requires_grad=True)"
   ]
  },
  {
   "cell_type": "code",
   "execution_count": 174,
   "id": "4bedb4f3",
   "metadata": {},
   "outputs": [],
   "source": [
    "optM = torch.optim.SGD([wEncoderM,wDecoderM,bEncoderM,bDecoderM],momentum=0.9, lr=0.01)"
   ]
  },
  {
   "cell_type": "code",
   "execution_count": 175,
   "id": "175652be",
   "metadata": {},
   "outputs": [],
   "source": [
    "from torch import nn\n",
    "LIMIT = 50\n",
    "NTESTPOINTS = 100\n",
    "winit = LIMIT * (2*torch.rand(NTESTPOINTS,2)-1) \n",
    "STEPS = 1000\n",
    "saved = np.ones((STEPS,len(winit),2))\n",
    "lossF = nn.MSELoss()\n",
    "loss = []\n",
    "st = []\n",
    "detached = []\n",
    "for t in range(STEPS):\n",
    "  st.append(t)\n",
    "  detached.append(x.detach().numpy())\n",
    "  optM.zero_grad()\n",
    "  decoded = decode(encode(x,wEncoderM,bEncoderM),wDecoderM,bDecoderM)\n",
    "  y = lossF(decoded,x)\n",
    "  loss.append(mse(decoded,x))\n",
    "  saved[t,:,:] = y.detach().numpy()\n",
    "  y.backward(torch.ones_like(y))\n",
    "  optM.step()"
   ]
  },
  {
   "cell_type": "code",
   "execution_count": 176,
   "id": "5327758c",
   "metadata": {},
   "outputs": [
    {
     "data": {
      "image/png": "[encoded data removed]",
      "text/plain": [
       "<Figure size 432x288 with 1 Axes>"
      ]
     },
     "metadata": {
      "needs_background": "light"
     },
     "output_type": "display_data"
    }
   ],
   "source": [
    "xRecon = decode(encode(x,wEncoderM,bEncoderM),wDecoderM,bDecoderM)\n",
    "plt.scatter(x[:,0],x[:,1],color='cyan');\n",
    "plt.scatter(xRecon.detach()[:,0],xRecon.detach()[:,1]);\n",
    "plt.plot([0,wEncoderM[0,0].detach().numpy()], [0,wEncoderM[1,0].detach().numpy()],'-r');\n",
    "plt.axis('equal')\n",
    "plt.title(\"SGD momentum 0.9\")\n",
    "plt.show()"
   ]
  },
  {
   "cell_type": "code",
   "execution_count": 177,
   "id": "d0f50da5",
   "metadata": {},
   "outputs": [
    {
     "data": {
      "image/png": "[encoded data removed]",
      "text/plain": [
       "<Figure size 432x288 with 1 Axes>"
      ]
     },
     "metadata": {
      "needs_background": "light"
     },
     "output_type": "display_data"
    }
   ],
   "source": [
    "plt.plot(st,loss)\n",
    "plt.title(\"SGD momentum 0.9 Loss vs Epochs\")\n",
    "plt.show()"
   ]
  },
  {
   "cell_type": "code",
   "execution_count": 178,
   "id": "f4a9f50a",
   "metadata": {},
   "outputs": [],
   "source": [
    "random.seed(seed)\n",
    "torch.manual_seed(seed)\n",
    "np.random.seed(seed)\n",
    "wEncoderRMS = torch.randn(D,1, requires_grad=True)\n",
    "wDecoderRMS = torch.randn(1,D, requires_grad=True)\n",
    "bEncoderRMS = torch.randn(1, requires_grad=True)\n",
    "bDecoderRMS = torch.randn(1,D, requires_grad=True)"
   ]
  },
  {
   "cell_type": "code",
   "execution_count": 179,
   "id": "59ea7785",
   "metadata": {},
   "outputs": [],
   "source": [
    "optRMS = torch.optim.RMSprop([wEncoderRMS,wDecoderRMS,bEncoderRMS,bDecoderRMS],momentum=0.9, lr=0.01)"
   ]
  },
  {
   "cell_type": "code",
   "execution_count": 180,
   "id": "fc07bcf7",
   "metadata": {},
   "outputs": [],
   "source": [
    "LIMIT = 50\n",
    "NTESTPOINTS = 100\n",
    "winit = LIMIT * (2*torch.rand(NTESTPOINTS,2)-1) \n",
    "STEPS = 1000\n",
    "saved = np.ones((STEPS,len(winit),2))\n",
    "lossF = nn.MSELoss()\n",
    "loss = []\n",
    "st = []\n",
    "detached = []\n",
    "for t in range(STEPS):\n",
    "  st.append(t)\n",
    "  detached.append(x.detach().numpy())\n",
    "  optRMS.zero_grad()\n",
    "  decoded = decode(encode(x,wEncoderRMS,bEncoderRMS),wDecoderRMS,bDecoderRMS)\n",
    "  y = lossF(decoded,x)\n",
    "  loss.append(mse(decoded,x))\n",
    "  saved[t,:,:] = y.detach().numpy()\n",
    "  y.backward(torch.ones_like(y))\n",
    "  optRMS.step()"
   ]
  },
  {
   "cell_type": "code",
   "execution_count": 181,
   "id": "b95a6c3f",
   "metadata": {},
   "outputs": [
    {
     "data": {
      "image/png": "[encoded data removed]",
      "text/plain": [
       "<Figure size 432x288 with 1 Axes>"
      ]
     },
     "metadata": {
      "needs_background": "light"
     },
     "output_type": "display_data"
    }
   ],
   "source": [
    "xRecon = decode(encode(x,wEncoderRMS,bEncoderRMS),wDecoderRMS,bDecoderRMS)\n",
    "plt.scatter(x[:,0],x[:,1],color='cyan');\n",
    "plt.scatter(xRecon.detach()[:,0],xRecon.detach()[:,1]);\n",
    "plt.plot([0,wEncoderRMS[0,0].detach().numpy()], [0,wEncoderRMS[1,0].detach().numpy()],'-r');\n",
    "plt.axis('equal')\n",
    "plt.title(\"RMSprop momentum 0.9\")\n",
    "plt.show()"
   ]
  },
  {
   "cell_type": "code",
   "execution_count": 182,
   "id": "1d4e52ae",
   "metadata": {},
   "outputs": [
    {
     "data": {
      "image/png": "[encoded data removed]",
      "text/plain": [
       "<Figure size 432x288 with 1 Axes>"
      ]
     },
     "metadata": {
      "needs_background": "light"
     },
     "output_type": "display_data"
    }
   ],
   "source": [
    "plt.plot(st,loss)\n",
    "plt.title(\"RMSprop momentum 0.9 Loss vs Epochs\")\n",
    "plt.show()"
   ]
  },
  {
   "cell_type": "code",
   "execution_count": 183,
   "id": "f08e225d",
   "metadata": {},
   "outputs": [
    {
     "name": "stdout",
     "output_type": "stream",
     "text": [
      "RMSprop\n",
      "tensor([[2.5970, 2.1813],\n",
      "        [3.0951, 2.5996]], grad_fn=<DivBackward0>)\n"
     ]
    }
   ],
   "source": [
    "print(\"RMSprop\")\n",
    "print(wEncoderRMS/wDecoderRMS)"
   ]
  },
  {
   "cell_type": "code",
   "execution_count": 184,
   "id": "d6324c92",
   "metadata": {},
   "outputs": [
    {
     "name": "stdout",
     "output_type": "stream",
     "text": [
      "SGD momentum\n",
      "tensor([[1.7082, 1.3907],\n",
      "        [4.3906, 3.5744]], grad_fn=<DivBackward0>)\n"
     ]
    }
   ],
   "source": [
    "print(\"SGD momentum\")\n",
    "print(wEncoderM/wDecoderM)"
   ]
  },
  {
   "cell_type": "code",
   "execution_count": 186,
   "id": "c99c2364",
   "metadata": {},
   "outputs": [
    {
     "name": "stdout",
     "output_type": "stream",
     "text": [
      "SGD no momentum\n",
      "tensor([[-0.3896, -0.5654],\n",
      "        [ 2.3440,  3.4020]], grad_fn=<DivBackward0>)\n"
     ]
    }
   ],
   "source": [
    "print(\"SGD no momentum\")\n",
    "print(wEncoder/wDecoder)"
   ]
  },
  {
   "cell_type": "markdown",
   "id": "39d3c7d0",
   "metadata": {},
   "source": [
    "The parameters start at random and is set to require a gradient and is then optimized as the steps progress. This is why the loss starts high on all the Loss vs Epochs graphs and quickly goes near 0 as the parameters are optimized and help to encode and decode more accurately. We can see the new reconstructed x with the optimised parameters by the dark blue line in the scatter plots which shows the model being optimized to show a linear equation showing the average of all the x's before encoding/decoding. The cyan points show all the original x values before encoding and decoding and so the closer the dark blue linear line is to an accurate averge the better and more optimized the parameters have been. The red line shows the optimised wEncoder which would change each time it is run as it starts from a random start but should show the gradient of the optimized weight parameter for encoding. \n",
    "\n",
    "Adding momentum seems to improve the accuracy as the loss function is able to get closer to zero quicker than without momentum. The dark blue line also seems more accurate with the optimized parameters using momentum than without as seem with the dark blue line in the first scatterplot seeming as a less accurate average function than that of the other 2 with moemntum. RMSprop and SGD with momentum also seem to have very similar results with a slight rise in inaccuracy at towards the start with the loss vs epochs graph however quickly going near 0 as it converges faster and better and also with lower MSE than without momentum. \n",
    "\n",
    "The weight for the Encoder (shown with red line) also seems to be positive for SGD with momentum and RMSprop however it is negative for SGD without momentum. These different weights can be seen with the weight ratios with the Encoder and Decoder weights with SGD no momentum having some negative ratios which show the difference in the weights which cause it to be neagtive."
   ]
  },
  {
   "cell_type": "code",
   "execution_count": null,
   "id": "0cfac9dd",
   "metadata": {},
   "outputs": [],
   "source": []
  }
 ],
 "metadata": {
  "kernelspec": {
   "display_name": "Python 3 (ipykernel)",
   "language": "python",
   "name": "python3"
  },
  "language_info": {
   "codemirror_mode": {
    "name": "ipython",
    "version": 3
   },
   "file_extension": ".py",
   "mimetype": "text/x-python",
   "name": "python",
   "nbconvert_exporter": "python",
   "pygments_lexer": "ipython3",
   "version": "3.9.12"
  }
 },
 "nbformat": 4,
 "nbformat_minor": 5
}
